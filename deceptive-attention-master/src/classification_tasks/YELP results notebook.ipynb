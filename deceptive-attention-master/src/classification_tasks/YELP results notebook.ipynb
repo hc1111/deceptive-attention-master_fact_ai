{
 "cells": [
  {
   "cell_type": "code",
   "execution_count": 1,
   "metadata": {},
   "outputs": [],
   "source": [
    "import os\n",
    "import re\n",
    "non_decimal = re.compile(r'[^\\d.]+')"
   ]
  },
  {
   "cell_type": "code",
   "execution_count": 23,
   "metadata": {},
   "outputs": [],
   "source": [
    "import pandas as pd\n",
    "import os\n",
    "import numpy as np\n",
    "\n",
    "outputfolder='twitnotebook'\n",
    "notebookpath=os.path.join(os.getcwd(),outputfolder)\n",
    "logdir=os.listdir(notebookpath)\n",
    "logfolders=[x for x in logdir]\n",
    "\n",
    "def return_median_mass(x):\n",
    "#     cc=df['attmaxidx '].values[0].strip().replace(\"'\",\"\").split(\",\")\n",
    "    cc=x.strip().replace(\"'\",\"\").split(\",\")\n",
    "    attentionmass=[float(non_decimal.sub('', x)) for x in cc]\n",
    "    MedianMass=pd.Series(attentionmass).median()\n",
    "    return MedianMass"
   ]
  },
  {
   "cell_type": "code",
   "execution_count": 114,
   "metadata": {},
   "outputs": [],
   "source": [
    "mega_df=pd.DataFrame()\n",
    "\n",
    "for l in logfolders:\n",
    "#     print(l)\n",
    "    os.chdir(os.path.join(notebookpath,l))\n",
    "    files = [x for x in [x for x in os.listdir() if 'results' in x] if 'test' in x]\n",
    "    \n",
    "#     print(files) \n",
    "    for y2 in files:\n",
    "        file = open(y2)\n",
    "\n",
    "        data = file.read()\n",
    "        data2=data.split('\\n')\n",
    "        for j in range(len(data2)-1):\n",
    "            result=data2[j].split(\"=\")\n",
    "            my_dict[result[0]]=result[1]\n",
    "        df=pd.Series(my_dict).to_frame().rename(columns={0:'Result'}).T\n",
    "        seed=y2.split(\"_\")[1]\n",
    "        df['MedianAttentionMass']=df['attmaxidx '].apply(lambda x:return_median_mass(x))\n",
    "        df['Seed']=seed\n",
    "        df['Epoch']=y2.split(\"_\")[3]\n",
    "        df['Lambda']=y2.split(\"_\")[2]\n",
    "        df['Obj']=l[1:]\n",
    "        mega_df=mega_df.append(df)"
   ]
  },
  {
   "cell_type": "code",
   "execution_count": 122,
   "metadata": {},
   "outputs": [
    {
     "name": "stdout",
     "output_type": "stream",
     "text": [
      "couldnt change attmaxidx \n",
      "couldnt change loss \n",
      "couldnt change Obj\n"
     ]
    }
   ],
   "source": [
    "for x in mega_df.columns:\n",
    "    try:\n",
    "        mega_df[x]=mega_df[x].astype(float)\n",
    "    except:\n",
    "        print('couldnt change '+x )"
   ]
  },
  {
   "cell_type": "code",
   "execution_count": 126,
   "metadata": {
    "scrolled": true
   },
   "outputs": [
    {
     "data": {
      "text/html": [
       "<div>\n",
       "<style scoped>\n",
       "    .dataframe tbody tr th:only-of-type {\n",
       "        vertical-align: middle;\n",
       "    }\n",
       "\n",
       "    .dataframe tbody tr th {\n",
       "        vertical-align: top;\n",
       "    }\n",
       "\n",
       "    .dataframe thead th {\n",
       "        text-align: right;\n",
       "    }\n",
       "</style>\n",
       "<table border=\"1\" class=\"dataframe\">\n",
       "  <thead>\n",
       "    <tr style=\"text-align: right;\">\n",
       "      <th></th>\n",
       "      <th></th>\n",
       "      <th></th>\n",
       "      <th>acc</th>\n",
       "      <th>avg_mean_attention_mass</th>\n",
       "      <th>MedianAttentionMass</th>\n",
       "    </tr>\n",
       "    <tr>\n",
       "      <th>Obj</th>\n",
       "      <th>Lambda</th>\n",
       "      <th>Epoch</th>\n",
       "      <th></th>\n",
       "      <th></th>\n",
       "      <th></th>\n",
       "    </tr>\n",
       "  </thead>\n",
       "  <tbody>\n",
       "    <tr>\n",
       "      <th rowspan=\"2\" valign=\"top\">max</th>\n",
       "      <th rowspan=\"2\" valign=\"top\">0.0</th>\n",
       "      <th>0.0</th>\n",
       "      <td>0.0975</td>\n",
       "      <td>0.026325</td>\n",
       "      <td>0.976322</td>\n",
       "    </tr>\n",
       "    <tr>\n",
       "      <th>1.0</th>\n",
       "      <td>0.5270</td>\n",
       "      <td>0.104974</td>\n",
       "      <td>0.895419</td>\n",
       "    </tr>\n",
       "    <tr>\n",
       "      <th rowspan=\"5\" valign=\"top\">mean</th>\n",
       "      <th rowspan=\"5\" valign=\"top\">0.0</th>\n",
       "      <th>0.0</th>\n",
       "      <td>0.0975</td>\n",
       "      <td>0.026325</td>\n",
       "      <td>0.976322</td>\n",
       "    </tr>\n",
       "    <tr>\n",
       "      <th>1.0</th>\n",
       "      <td>0.5270</td>\n",
       "      <td>0.104974</td>\n",
       "      <td>0.895419</td>\n",
       "    </tr>\n",
       "    <tr>\n",
       "      <th>2.0</th>\n",
       "      <td>0.5600</td>\n",
       "      <td>0.099947</td>\n",
       "      <td>0.908495</td>\n",
       "    </tr>\n",
       "    <tr>\n",
       "      <th>3.0</th>\n",
       "      <td>0.5640</td>\n",
       "      <td>0.082261</td>\n",
       "      <td>0.920567</td>\n",
       "    </tr>\n",
       "    <tr>\n",
       "      <th>4.0</th>\n",
       "      <td>0.5640</td>\n",
       "      <td>0.083207</td>\n",
       "      <td>0.919912</td>\n",
       "    </tr>\n",
       "  </tbody>\n",
       "</table>\n",
       "</div>"
      ],
      "text/plain": [
       "                     acc   avg_mean_attention_mass   MedianAttentionMass\n",
       "Obj  Lambda Epoch                                                       \n",
       "max  0.0    0.0    0.0975                  0.026325             0.976322\n",
       "            1.0    0.5270                  0.104974             0.895419\n",
       "mean 0.0    0.0    0.0975                  0.026325             0.976322\n",
       "            1.0    0.5270                  0.104974             0.895419\n",
       "            2.0    0.5600                  0.099947             0.908495\n",
       "            3.0    0.5640                  0.082261             0.920567\n",
       "            4.0    0.5640                  0.083207             0.919912"
      ]
     },
     "execution_count": 126,
     "metadata": {},
     "output_type": "execute_result"
    }
   ],
   "source": [
    "mega_df.groupby(['Obj','Lambda','Epoch']).mean()[['acc ','avg_mean_attention_mass ','MedianAttentionMass']]"
   ]
  },
  {
   "cell_type": "code",
   "execution_count": null,
   "metadata": {},
   "outputs": [],
   "source": []
  }
 ],
 "metadata": {
  "kernelspec": {
   "display_name": "Python (mdl)",
   "language": "python",
   "name": "dl"
  },
  "language_info": {
   "codemirror_mode": {
    "name": "ipython",
    "version": 3
   },
   "file_extension": ".py",
   "mimetype": "text/x-python",
   "name": "python",
   "nbconvert_exporter": "python",
   "pygments_lexer": "ipython3",
   "version": "3.7.7"
  }
 },
 "nbformat": 4,
 "nbformat_minor": 4
}
