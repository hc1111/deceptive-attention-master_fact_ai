{
 "cells": [
  {
   "cell_type": "code",
   "execution_count": null,
   "metadata": {},
   "outputs": [],
   "source": [
    "import os\n",
    "import classification_tasks\n",
    "import subprocess"
   ]
  },
  {
   "cell_type": "markdown",
   "metadata": {},
   "source": [
    "## Run BERT Test batch "
   ]
  },
  {
   "cell_type": "markdown",
   "metadata": {},
   "source": [
    "Run a test BERT model for $\\lambda = 0.1$, seed = 1, and model = \"pronoun-bert\". Output will be stored in the output_test folder"
   ]
  },
  {
   "cell_type": "code",
   "execution_count": null,
   "metadata": {},
   "outputs": [],
   "source": [
    "subprocess.check_call('CUDA_VISIBLE_DEVICES=0 bash run_class_test_bert.sh', shell=True)"
   ]
  },
  {
   "cell_type": "markdown",
   "metadata": {},
   "source": [
    "## Run Embedding and BiLSTM models"
   ]
  },
  {
   "cell_type": "markdown",
   "metadata": {},
   "source": [
    "Run anonymized Embedding and BiLSTM models, output will be stored in the output_emb folder"
   ]
  },
  {
   "cell_type": "code",
   "execution_count": null,
   "metadata": {},
   "outputs": [],
   "source": [
    "subprocess.check_call('CUDA_VISIBLE_DEVICES=0 bash run_class_anon.sh', shell=True)"
   ]
  },
  {
   "cell_type": "markdown",
   "metadata": {},
   "source": [
    "Run Embedding and BiLSTM models for all seeds, tasks and $\\lambda$. Output will be stored in the output_emb folder"
   ]
  },
  {
   "cell_type": "code",
   "execution_count": null,
   "metadata": {},
   "outputs": [],
   "source": [
    "subprocess.check_call('CUDA_VISIBLE_DEVICES=0 bash run_class.sh', shell=True)"
   ]
  },
  {
   "cell_type": "markdown",
   "metadata": {},
   "source": [
    "## Run All BERT models"
   ]
  },
  {
   "cell_type": "markdown",
   "metadata": {},
   "source": [
    "Run anonymized BERT models for all seeds and all tasks"
   ]
  },
  {
   "cell_type": "code",
   "execution_count": null,
   "metadata": {},
   "outputs": [],
   "source": [
    "subprocess.check_call('CUDA_VISIBLE_DEVICES=0 bash run_class_bert_anon.sh', shell=True)"
   ]
  },
  {
   "cell_type": "markdown",
   "metadata": {},
   "source": [
    "Run BERT models for all $\\lambda$, seeds and tasks, output will be stored in the output_bert folder"
   ]
  },
  {
   "cell_type": "code",
   "execution_count": null,
   "metadata": {},
   "outputs": [],
   "source": [
    "subprocess.check_call('CUDA_VISIBLE_DEVICES=0 bash run_class_bert.sh', shell=True)"
   ]
  },
  {
   "cell_type": "markdown",
   "metadata": {},
   "source": [
    "## Results"
   ]
  },
  {
   "cell_type": "markdown",
   "metadata": {},
   "source": [
    "### Accuracy and Attention Mass Table\n",
    "\n",
    "Mean Accuracy and Attention Mass along with their standard deviation accross various seeds"
   ]
  },
  {
   "cell_type": "code",
   "execution_count": null,
   "metadata": {},
   "outputs": [],
   "source": [
    "log_dir = \"output_emb/\"\n",
    "bert_dir = \"output_bert/\"\n",
    "\n",
    "\n",
    "logfiles = [x for x in os.listdir(log_dir) if 'logs_' in x]\n",
    "bertfiles = [f+\"/test_results.txt\" for f in os.listdir(bert_dir) if os.path.isdir(os.path.join(bert_dir, f))]\n",
    "\n",
    "results = classification_tasks.print_table(logfiles, bertfiles,log_dir, bert_dir, False)\n",
    "results\n"
   ]
  },
  {
   "cell_type": "markdown",
   "metadata": {},
   "source": [
    "### Difference Table \n",
    "\n",
    "This table shows the difference between our results and the original Table 3 from the paper by Pruthi et al."
   ]
  },
  {
   "cell_type": "code",
   "execution_count": null,
   "metadata": {},
   "outputs": [],
   "source": [
    "# Table without standard deviation\n",
    "simple = classification_tasks.print_table(logfiles, bertfiles, log_dir, bert_dir, True)\n",
    "difference = classification_tasks.create_difference_table(simple)\n",
    "difference"
   ]
  },
  {
   "cell_type": "markdown",
   "metadata": {},
   "source": [
    "### Average Runtime for each Classification Model\n",
    "\n",
    "Average time in minutes it would take to run 1 seed"
   ]
  },
  {
   "cell_type": "code",
   "execution_count": null,
   "metadata": {},
   "outputs": [],
   "source": [
    "log_df = classification_tasks.get_df(logfiles)\n",
    "runtime = classification_tasks.calc_runtime([log_df], log_dir, bert_dir)\n",
    "runtime"
   ]
  }
 ],
 "metadata": {
  "kernelspec": {
   "display_name": "Python 3",
   "language": "python",
   "name": "python3"
  },
  "language_info": {
   "codemirror_mode": {
    "name": "ipython",
    "version": 3
   },
   "file_extension": ".py",
   "mimetype": "text/x-python",
   "name": "python",
   "nbconvert_exporter": "python",
   "pygments_lexer": "ipython3",
   "version": "3.7.3"
  }
 },
 "nbformat": 4,
 "nbformat_minor": 5
}
