{
 "cells": [
  {
   "cell_type": "code",
   "execution_count": 2,
   "metadata": {},
   "outputs": [],
   "source": [
    "import os   \n",
    "import pandas as pd\n",
    "import numpy as np\n"
   ]
  },
  {
   "cell_type": "markdown",
   "metadata": {},
   "source": [
    "## Extract from log functions"
   ]
  },
  {
   "cell_type": "code",
   "execution_count": 3,
   "metadata": {},
   "outputs": [],
   "source": [
    "def extract_dict_from_files(log_dir):\n",
    "    all_files = os.listdir(log_dir)\n",
    "    bigdict = {}\n",
    "    for file in all_files:\n",
    "        taskL = file.split('=')[1][:-6].split('_')\n",
    "        task = taskL[0]\n",
    "        coeff = file.split('=')[2][:-5]\n",
    "        if len(taskL)>1:\n",
    "            coeff+=taskL[1]\n",
    "        if task not in bigdict.keys():\n",
    "            bigdict[task] = {}\n",
    "        if coeff not in bigdict[task].keys():\n",
    "            bigdict[task][coeff] = {'Accuracy':[], 'Attention':[]}\n",
    "\n",
    "        f = open(log_dir+file, \"r\")\n",
    "        for i, line in enumerate(f):\n",
    "            if len(line)>2:\n",
    "                if line[0] == 'F':\n",
    "                    line = line.split()\n",
    "                    bigdict[task][coeff][line[2]].append(float(line[-1]))\n",
    "    return bigdict\n",
    "\n",
    "\n",
    "def pretty(d, indent=0):\n",
    "    for key, value in d.items():\n",
    "        print('\\t' * indent + str(key))\n",
    "        if isinstance(value, dict):\n",
    "            pretty(value, indent+1)\n",
    "        else:\n",
    "            print('\\t' * (indent+1) + str(value))\n",
    "            \n",
    "def avg(d, indent=0):\n",
    "    return_dict = {}\n",
    "    for key, value in d.items():\n",
    "        if key not in return_dict.keys():\n",
    "            return_dict[key] = {}\n",
    "        for key1, value1 in value.items():\n",
    "            if key1 not in return_dict.keys():\n",
    "                return_dict[key][key1] = {}\n",
    "            for key2, value2 in value1.items():\n",
    "#                 return_dict[key][key1]['seeds'] = len(value2)\n",
    "                return_dict[key][key1][key2] = str(round(np.mean(value2), 2))+u\"\\u00B1\"+str(round(np.std(value2), 2))\n",
    "    return return_dict\n",
    "\n",
    "def df(d):\n",
    "    keys = []\n",
    "    dataframes = []\n",
    "    for key, value in d.items():\n",
    "        keys.append(key)\n",
    "        dataframes.append(pd.DataFrame.from_dict(value).T)\n",
    "        \n",
    "    df = pd.concat(dataframes, keys=keys,  axis=1)\n",
    "\n",
    "    \n",
    "#     df.columns.set_levels(['seeds', 'Acc.', 'A.M.'],level=1,inplace=True)\n",
    "\n",
    "    df.columns.set_levels(['Acc.', 'A.M.'],level=1,inplace=True)\n",
    "\n",
    "    df.columns.set_levels(['Sequence Reverse', 'Sequence Copy', 'En → De MT', 'Bigram Flip'],level=0,inplace=True)\n",
    "\n",
    "    df = df.rename(index={'0.1':\"Manipulated0.1\", '0.0no-attn': \"None\", '0.0uniform':\"Uniform\", '1.0':\"Manipulated1.0\", '0.0':\"Dot-Product\"})\n",
    "    df = df.reindex(['Dot-Product','Uniform', 'None','Manipulated0.1', 'Manipulated1.0'])\n",
    "    df.index.name = 'Attention'\n",
    "    \n",
    "    df = df.reindex(['Bigram Flip', 'Sequence Copy', 'Sequence Reverse', 'En → De MT'], axis=\"columns\", level=0)\n",
    "    lambdaa = [0.0, 0.0, 0.0, 0.1, 1.0]\n",
    "    df.insert(0, '\\u03BB', lambdaa, True)\n",
    "    return df\n",
    "\n"
   ]
  },
  {
   "cell_type": "markdown",
   "metadata": {},
   "source": [
    "## Extract from logs\n",
    "Change folder dir if logs are in different directory. "
   ]
  },
  {
   "cell_type": "code",
   "execution_count": 5,
   "metadata": {},
   "outputs": [
    {
     "data": {
      "text/html": [
       "<div>\n",
       "<style scoped>\n",
       "    .dataframe tbody tr th:only-of-type {\n",
       "        vertical-align: middle;\n",
       "    }\n",
       "\n",
       "    .dataframe tbody tr th {\n",
       "        vertical-align: top;\n",
       "    }\n",
       "\n",
       "    .dataframe thead tr th {\n",
       "        text-align: left;\n",
       "    }\n",
       "\n",
       "    .dataframe thead tr:last-of-type th {\n",
       "        text-align: right;\n",
       "    }\n",
       "</style>\n",
       "<table border=\"1\" class=\"dataframe\">\n",
       "  <thead>\n",
       "    <tr>\n",
       "      <th></th>\n",
       "      <th>λ</th>\n",
       "      <th colspan=\"2\" halign=\"left\">Bigram Flip</th>\n",
       "      <th colspan=\"2\" halign=\"left\">Sequence Copy</th>\n",
       "      <th colspan=\"2\" halign=\"left\">Sequence Reverse</th>\n",
       "      <th colspan=\"2\" halign=\"left\">En → De MT</th>\n",
       "    </tr>\n",
       "    <tr>\n",
       "      <th></th>\n",
       "      <th></th>\n",
       "      <th>Acc.</th>\n",
       "      <th>A.M.</th>\n",
       "      <th>Acc.</th>\n",
       "      <th>A.M.</th>\n",
       "      <th>Acc.</th>\n",
       "      <th>A.M.</th>\n",
       "      <th>Acc.</th>\n",
       "      <th>A.M.</th>\n",
       "    </tr>\n",
       "    <tr>\n",
       "      <th>Attention</th>\n",
       "      <th></th>\n",
       "      <th></th>\n",
       "      <th></th>\n",
       "      <th></th>\n",
       "      <th></th>\n",
       "      <th></th>\n",
       "      <th></th>\n",
       "      <th></th>\n",
       "      <th></th>\n",
       "    </tr>\n",
       "  </thead>\n",
       "  <tbody>\n",
       "    <tr>\n",
       "      <th>Dot-Product</th>\n",
       "      <td>0.0</td>\n",
       "      <td>100.0±0.0</td>\n",
       "      <td>93.89±0.16</td>\n",
       "      <td>100.0±0.0</td>\n",
       "      <td>94.11±0.12</td>\n",
       "      <td>99.99±0.01</td>\n",
       "      <td>93.49±0.95</td>\n",
       "      <td>37.58±0.72</td>\n",
       "      <td>24.85±1.82</td>\n",
       "    </tr>\n",
       "    <tr>\n",
       "      <th>Uniform</th>\n",
       "      <td>0.0</td>\n",
       "      <td>92.49±2.52</td>\n",
       "      <td>4.71±0.0</td>\n",
       "      <td>81.76±0.77</td>\n",
       "      <td>4.73±0.0</td>\n",
       "      <td>80.91±4.16</td>\n",
       "      <td>4.74±0.0</td>\n",
       "      <td>32.35±0.91</td>\n",
       "      <td>5.96±0.0</td>\n",
       "    </tr>\n",
       "    <tr>\n",
       "      <th>None</th>\n",
       "      <td>0.0</td>\n",
       "      <td>94.89±1.39</td>\n",
       "      <td>0.0±0.0</td>\n",
       "      <td>83.79±3.7</td>\n",
       "      <td>0.0±0.0</td>\n",
       "      <td>86.61±5.7</td>\n",
       "      <td>0.0±0.0</td>\n",
       "      <td>30.63±0.68</td>\n",
       "      <td>0.0±0.0</td>\n",
       "    </tr>\n",
       "    <tr>\n",
       "      <th>Manipulated0.1</th>\n",
       "      <td>0.1</td>\n",
       "      <td>100.0±0.0</td>\n",
       "      <td>18.72±9.49</td>\n",
       "      <td>100.0±0.0</td>\n",
       "      <td>10.81±6.52</td>\n",
       "      <td>100.0±0.0</td>\n",
       "      <td>17.44±11.53</td>\n",
       "      <td>36.75±0.84</td>\n",
       "      <td>16.53±4.07</td>\n",
       "    </tr>\n",
       "    <tr>\n",
       "      <th>Manipulated1.0</th>\n",
       "      <td>1.0</td>\n",
       "      <td>99.91±0.04</td>\n",
       "      <td>0.01±0.01</td>\n",
       "      <td>99.89±0.06</td>\n",
       "      <td>0.02±0.01</td>\n",
       "      <td>99.87±0.07</td>\n",
       "      <td>0.02±0.01</td>\n",
       "      <td>33.22±1.15</td>\n",
       "      <td>1.19±0.73</td>\n",
       "    </tr>\n",
       "  </tbody>\n",
       "</table>\n",
       "</div>"
      ],
      "text/plain": [
       "                  λ Bigram Flip             Sequence Copy              \\\n",
       "                           Acc.        A.M.          Acc.        A.M.   \n",
       "Attention                                                               \n",
       "Dot-Product     0.0   100.0±0.0  93.89±0.16     100.0±0.0  94.11±0.12   \n",
       "Uniform         0.0  92.49±2.52    4.71±0.0    81.76±0.77    4.73±0.0   \n",
       "None            0.0  94.89±1.39     0.0±0.0     83.79±3.7     0.0±0.0   \n",
       "Manipulated0.1  0.1   100.0±0.0  18.72±9.49     100.0±0.0  10.81±6.52   \n",
       "Manipulated1.0  1.0  99.91±0.04   0.01±0.01    99.89±0.06   0.02±0.01   \n",
       "\n",
       "               Sequence Reverse               En → De MT              \n",
       "                           Acc.         A.M.        Acc.        A.M.  \n",
       "Attention                                                             \n",
       "Dot-Product          99.99±0.01   93.49±0.95  37.58±0.72  24.85±1.82  \n",
       "Uniform              80.91±4.16     4.74±0.0  32.35±0.91    5.96±0.0  \n",
       "None                  86.61±5.7      0.0±0.0  30.63±0.68     0.0±0.0  \n",
       "Manipulated0.1        100.0±0.0  17.44±11.53  36.75±0.84  16.53±4.07  \n",
       "Manipulated1.0       99.87±0.07    0.02±0.01  33.22±1.15   1.19±0.73  "
      ]
     },
     "execution_count": 5,
     "metadata": {},
     "output_type": "execute_result"
    }
   ],
   "source": [
    "folder_dir = \"\"\n",
    "bigdict = extract_dict_from_files(folder_dir+\"logs/\")\n",
    "\n",
    "# pretty(bigdict)\n",
    "\n",
    "avg_dict = avg(bigdict)\n",
    "df  = df(avg_dict)\n",
    "df\n"
   ]
  },
  {
   "cell_type": "markdown",
   "metadata": {},
   "source": [
    "## Test run\n",
    "### 1 seed and 1 epoch"
   ]
  },
  {
   "cell_type": "code",
   "execution_count": 6,
   "metadata": {},
   "outputs": [
    {
     "data": {
      "text/plain": [
       "0"
      ]
     },
     "execution_count": 6,
     "metadata": {},
     "output_type": "execute_result"
    }
   ],
   "source": [
    "import subprocess\n",
    "\n",
    "\n",
    "subprocess.check_call('CUDA_VISIBLE_DEVICES=0 bash test_tasks.sh', shell=True)\n",
    "\n",
    "subprocess.check_call('CUDA_VISIBLE_DEVICES=0 bash test_uniform_no_attn_baselines.sh', shell=True)"
   ]
  },
  {
   "cell_type": "markdown",
   "metadata": {},
   "source": [
    "## Full run\n"
   ]
  },
  {
   "cell_type": "code",
   "execution_count": null,
   "metadata": {},
   "outputs": [],
   "source": [
    "\n",
    "subprocess.check_call('CUDA_VISIBLE_DEVICES=0 bash run_tasks.sh', shell=True)\n",
    "\n",
    "subprocess.check_call('CUDA_VISIBLE_DEVICES=0 bash run_uniform_no_attn_baselines.sh', shell=True)"
   ]
  },
  {
   "cell_type": "code",
   "execution_count": null,
   "metadata": {},
   "outputs": [],
   "source": []
  },
  {
   "cell_type": "code",
   "execution_count": null,
   "metadata": {},
   "outputs": [],
   "source": []
  }
 ],
 "metadata": {
  "kernelspec": {
   "display_name": "Python 3",
   "language": "python",
   "name": "python3"
  },
  "language_info": {
   "codemirror_mode": {
    "name": "ipython",
    "version": 3
   },
   "file_extension": ".py",
   "mimetype": "text/x-python",
   "name": "python",
   "nbconvert_exporter": "python",
   "pygments_lexer": "ipython3",
   "version": "3.8.5"
  }
 },
 "nbformat": 4,
 "nbformat_minor": 4
}
